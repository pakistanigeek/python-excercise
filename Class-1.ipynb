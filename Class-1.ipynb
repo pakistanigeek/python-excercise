{
 "cells": [
  {
   "cell_type": "markdown",
   "metadata": {},
   "source": [
    "# Class # 1"
   ]
  },
  {
   "cell_type": "code",
   "execution_count": 1,
   "metadata": {},
   "outputs": [
    {
     "name": "stdout",
     "output_type": "stream",
     "text": [
      "Pakistan zindaabad\n"
     ]
    }
   ],
   "source": [
    "print(\"Pakistan zindaabad\")"
   ]
  },
  {
   "cell_type": "code",
   "execution_count": 2,
   "metadata": {},
   "outputs": [
    {
     "name": "stdout",
     "output_type": "stream",
     "text": [
      "Arsalan 9847554@yahoo.com Python Developer\n"
     ]
    }
   ],
   "source": [
    "a =\"Arsalan\"\n",
    "b =\"arsalan@example.com\"\n",
    "c =\"Python Developer\"\n",
    "\n",
    "print(a,b,c)"
   ]
  },
  {
   "cell_type": "code",
   "execution_count": 6,
   "metadata": {},
   "outputs": [
    {
     "name": "stdout",
     "output_type": "stream",
     "text": [
      "What is your Name : Arsalan\n",
      "What is your email : arsalan@example.com\n",
      "What is your dicipline : Computer Science\n",
      "\n",
      "Name : Arsalan \n",
      "\n",
      "Email : arsalan@example.com \n",
      "\n",
      "Dicipline : Computer Science \n",
      "\n",
      "\n"
     ]
    }
   ],
   "source": [
    "name = input(\"What is your Name : \") #   \"Arsalan\"\n",
    "email = input(\"What is your email : \") # \"arsalan@example.com\"\n",
    "dicipline = input(\"What is your dicipline : \")  #\"Computer Science\"\n",
    "\n",
    "data = \"\"\"\n",
    "Name : {} \\n\n",
    "Email : {} \\n\n",
    "Dicipline : {} \\n\n",
    "\"\"\"\n",
    "print(data.format(name,email,dicipline))\n",
    "\n",
    "\n",
    "\n"
   ]
  },
  {
   "cell_type": "code",
   "execution_count": 9,
   "metadata": {},
   "outputs": [
    {
     "name": "stdout",
     "output_type": "stream",
     "text": [
      "What is your university name ? Bahria\n",
      "What is your entrollment year ? 2019\n",
      "What is your name ? John\n",
      "What is your father's name ? Steven\n",
      "Enter your physics marks50\n",
      "Enter your chemistry makrs60\n",
      "Enter your mathematics marks70\n",
      "Enter your english marks80\n",
      "Enter your urud marks90\n"
     ]
    }
   ],
   "source": [
    "university = input(\"What is your university name ? \")\n",
    "enrollment = input(\"What is your entrollment year ? \")\n",
    "name = input(\"What is your name ? \")\n",
    "father_name = input(\"What is your father's name ? \")\n",
    "phy_marks = input(\"Enter your physics marks\")\n",
    "che_marks = input(\"Enter your chemistry makrs\")\n",
    "mat_marks = input(\"Enter your mathematics marks\")\n",
    "eng_marks = input(\"Enter your english marks\")\n",
    "urd_marks = input(\"Enter your urud marks\")\n",
    "total_marks = 500 \n",
    "obtained_marks = (int(phy_marks) + int(che_marks) + int(mat_marks) + int(eng_marks) + int(urd_marks))\n",
    "percentage = (obtained_marks * 100) / total_marks\n",
    "\n"
   ]
  },
  {
   "cell_type": "code",
   "execution_count": 12,
   "metadata": {},
   "outputs": [
    {
     "data": {
      "text/plain": [
       "70.0"
      ]
     },
     "execution_count": 12,
     "metadata": {},
     "output_type": "execute_result"
    }
   ],
   "source": [
    "data = \"\"\"\n",
    "University Name : {}\n",
    "Enrollment : {}\n",
    "Name : {}\n",
    "Fahter Name : {}\n",
    "PHY : {}\n",
    "CHE : {}\n",
    "MTH : {}\n",
    "ENG : {}\n",
    "URD : {}\n",
    "TM : {}\n",
    "OM : {}\n",
    "PC:  {}\n",
    "\"\"\"\n",
    "print(data.format(university,enrollment,name,father_name,phy_marks,che_marks,mat_marks))\n",
    "total_marks\n",
    "obtained_marks\n",
    "percentage"
   ]
  },
  {
   "cell_type": "code",
   "execution_count": null,
   "metadata": {},
   "outputs": [],
   "source": []
  }
 ],
 "metadata": {
  "kernelspec": {
   "display_name": "Python 3",
   "language": "python",
   "name": "python3"
  },
  "language_info": {
   "codemirror_mode": {
    "name": "ipython",
    "version": 3
   },
   "file_extension": ".py",
   "mimetype": "text/x-python",
   "name": "python",
   "nbconvert_exporter": "python",
   "pygments_lexer": "ipython3",
   "version": "3.7.3"
  }
 },
 "nbformat": 4,
 "nbformat_minor": 2
}

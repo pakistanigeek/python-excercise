{
 "cells": [
  {
   "cell_type": "code",
   "execution_count": 14,
   "metadata": {},
   "outputs": [],
   "source": [
    "l_paragraph = \"i love pakistan\"\n",
    "c_paragraph = \"I LOVE PAKISTAN\"\n",
    "m_paragraph = \"I love PaKistan\""
   ]
  },
  {
   "cell_type": "code",
   "execution_count": 82,
   "metadata": {},
   "outputs": [
    {
     "name": "stdout",
     "output_type": "stream",
     "text": [
      "I love pakistan\n"
     ]
    }
   ],
   "source": [
    "#convert to upper case\n",
    "print(l_paragraph.capitalize()) "
   ]
  },
  {
   "cell_type": "code",
   "execution_count": 83,
   "metadata": {},
   "outputs": [
    {
     "name": "stdout",
     "output_type": "stream",
     "text": [
      "i love pakistan\n"
     ]
    }
   ],
   "source": [
    "#convert to lower case\n",
    "print(c_paragraph.casefold())"
   ]
  },
  {
   "cell_type": "code",
   "execution_count": 84,
   "metadata": {},
   "outputs": [
    {
     "name": "stdout",
     "output_type": "stream",
     "text": [
      "                                          i love pakistan                                           \n"
     ]
    }
   ],
   "source": [
    " #insert center spaces\n",
    "print(paragraph.center(100))"
   ]
  },
  {
   "cell_type": "code",
   "execution_count": 85,
   "metadata": {},
   "outputs": [
    {
     "name": "stdout",
     "output_type": "stream",
     "text": [
      "2\n"
     ]
    }
   ],
   "source": [
    "#return count occurance\n",
    "print(paragraph.count(\"a\")) "
   ]
  },
  {
   "cell_type": "code",
   "execution_count": 25,
   "metadata": {},
   "outputs": [
    {
     "name": "stdout",
     "output_type": "stream",
     "text": [
      "b'I love Pakistan \\xc2\\xa9 '\n"
     ]
    }
   ],
   "source": [
    "#generate encoded string\n",
    "print(\"I love Pakistan © \".encode()) "
   ]
  },
  {
   "cell_type": "code",
   "execution_count": 26,
   "metadata": {},
   "outputs": [
    {
     "name": "stdout",
     "output_type": "stream",
     "text": [
      "True\n"
     ]
    }
   ],
   "source": [
    " # check if string endswidth\n",
    "print(l_paragraph.endswith(\"n\"))"
   ]
  },
  {
   "cell_type": "code",
   "execution_count": 30,
   "metadata": {},
   "outputs": [
    {
     "name": "stdout",
     "output_type": "stream",
     "text": [
      "I   Love    Pakistan\n"
     ]
    }
   ],
   "source": [
    "#expand tab size\n",
    "print(\"I\\tLove\\tPakistan\".expandtabs(4)) "
   ]
  },
  {
   "cell_type": "code",
   "execution_count": 86,
   "metadata": {},
   "outputs": [
    {
     "name": "stdout",
     "output_type": "stream",
     "text": [
      "7\n"
     ]
    }
   ],
   "source": [
    "#find index\n",
    "print(l_paragraph.find(\"pak\")) "
   ]
  },
  {
   "cell_type": "code",
   "execution_count": 47,
   "metadata": {},
   "outputs": [
    {
     "name": "stdout",
     "output_type": "stream",
     "text": [
      "Hp Laptop service charges only 40.00\n"
     ]
    }
   ],
   "source": [
    "#Format String\n",
    "print(\"{product} service charges only {price:.2f}\".format(product=\"Hp Laptop\",price=40))"
   ]
  },
  {
   "cell_type": "code",
   "execution_count": 50,
   "metadata": {},
   "outputs": [
    {
     "name": "stdout",
     "output_type": "stream",
     "text": [
      "7\n"
     ]
    }
   ],
   "source": [
    "#Find index\n",
    "print(l_paragraph.index(\"pak\")) "
   ]
  },
  {
   "cell_type": "code",
   "execution_count": 59,
   "metadata": {},
   "outputs": [
    {
     "name": "stdout",
     "output_type": "stream",
     "text": [
      "False\n"
     ]
    }
   ],
   "source": [
    "#check for alphanumeric\n",
    "print((\"This is charactr is alphanumeric\").isalnum()) "
   ]
  },
  {
   "cell_type": "code",
   "execution_count": 71,
   "metadata": {},
   "outputs": [
    {
     "name": "stdout",
     "output_type": "stream",
     "text": [
      "False\n",
      "True\n"
     ]
    }
   ],
   "source": [
    " #check for is decimal\n",
    "print(l_paragraph.isdecimal())\n",
    "print(\"123\".isdecimal())"
   ]
  },
  {
   "cell_type": "code",
   "execution_count": 70,
   "metadata": {},
   "outputs": [
    {
     "name": "stdout",
     "output_type": "stream",
     "text": [
      "False\n",
      "True\n"
     ]
    }
   ],
   "source": [
    "#check if contains digits\n",
    "print(l_paragraph.isdigit())\n",
    "print(\"12121\".isdigit()) \n"
   ]
  },
  {
   "cell_type": "code",
   "execution_count": 69,
   "metadata": {},
   "outputs": [
    {
     "name": "stdout",
     "output_type": "stream",
     "text": [
      "False\n",
      "True\n"
     ]
    }
   ],
   "source": [
    "#check for valid identfier\n",
    "print(l_paragraph.isidentifier())\n",
    "print(\"name\".isidentifier()) "
   ]
  },
  {
   "cell_type": "code",
   "execution_count": 72,
   "metadata": {},
   "outputs": [
    {
     "name": "stdout",
     "output_type": "stream",
     "text": [
      "True\n",
      "False\n"
     ]
    }
   ],
   "source": [
    "# checks for lower case\n",
    "print(l_paragraph.islower()) \n",
    "print(c_paragraph.islower())"
   ]
  },
  {
   "cell_type": "code",
   "execution_count": 73,
   "metadata": {},
   "outputs": [
    {
     "name": "stdout",
     "output_type": "stream",
     "text": [
      "False\n",
      "True\n"
     ]
    }
   ],
   "source": [
    "#check if string is numeric\n",
    "print(l_paragraph.isnumeric()) \n",
    "print(\"123\".isnumeric())"
   ]
  },
  {
   "cell_type": "code",
   "execution_count": 75,
   "metadata": {},
   "outputs": [
    {
     "name": "stdout",
     "output_type": "stream",
     "text": [
      "True\n",
      "False\n"
     ]
    }
   ],
   "source": [
    "#return true if charactor is printable\n",
    "print(l_paragraph.isprintable())\n",
    "print(\"Hi!\\n this is arsalan #1?\".isprintable())"
   ]
  },
  {
   "cell_type": "code",
   "execution_count": 76,
   "metadata": {},
   "outputs": [
    {
     "name": "stdout",
     "output_type": "stream",
     "text": [
      "False\n",
      "True\n"
     ]
    }
   ],
   "source": [
    "#return true if all charactors are white space\n",
    "print(l_paragraph.isspace())\n",
    "print(\"            \".isspace())"
   ]
  },
  {
   "cell_type": "code",
   "execution_count": 80,
   "metadata": {},
   "outputs": [
    {
     "name": "stdout",
     "output_type": "stream",
     "text": [
      "False\n",
      "True\n"
     ]
    }
   ],
   "source": [
    "#return true if title case\n",
    "print(c_paragraph.istitle())\n",
    "print(\"This Is Title Case\".istitle())"
   ]
  },
  {
   "cell_type": "code",
   "execution_count": 81,
   "metadata": {},
   "outputs": [
    {
     "name": "stdout",
     "output_type": "stream",
     "text": [
      "False\n",
      "True\n"
     ]
    }
   ],
   "source": [
    "#return true if uppercase\n",
    "print(l_paragraph.isupper())\n",
    "print(c_paragraph.isupper())\n"
   ]
  },
  {
   "cell_type": "code",
   "execution_count": 90,
   "metadata": {},
   "outputs": [
    {
     "name": "stdout",
     "output_type": "stream",
     "text": [
      "My Name Is Arsalan\n"
     ]
    }
   ],
   "source": [
    "# Join list\n",
    "print(\" \".join([\"My\",\"Name\",\"Is\",\"Arsalan\"]))"
   ]
  },
  {
   "cell_type": "code",
   "execution_count": 91,
   "metadata": {},
   "outputs": [
    {
     "name": "stdout",
     "output_type": "stream",
     "text": [
      "Country:    Pakistan\n"
     ]
    }
   ],
   "source": [
    "# Insert spaces\n",
    "print(\"Country:\".ljust(20),\" Pakistan\")"
   ]
  },
  {
   "cell_type": "code",
   "execution_count": 92,
   "metadata": {},
   "outputs": [
    {
     "name": "stdout",
     "output_type": "stream",
     "text": [
      "i love pakistan\n"
     ]
    }
   ],
   "source": [
    "print(c_paragraph.lower())"
   ]
  },
  {
   "cell_type": "code",
   "execution_count": 95,
   "metadata": {},
   "outputs": [
    {
     "name": "stdout",
     "output_type": "stream",
     "text": [
      "I am Pakistani             \n"
     ]
    }
   ],
   "source": [
    "#Trim from left side\n",
    "print(\"        I am Pakistani             \".lstrip())"
   ]
  },
  {
   "cell_type": "code",
   "execution_count": 98,
   "metadata": {},
   "outputs": [
    {
     "name": "stdout",
     "output_type": "stream",
     "text": [
      "        I am Pakistani\n"
     ]
    }
   ],
   "source": [
    "#Trim from right side\n",
    "print(\"        I am Pakistani             \".rstrip())"
   ]
  },
  {
   "cell_type": "code",
   "execution_count": 100,
   "metadata": {},
   "outputs": [
    {
     "name": "stdout",
     "output_type": "stream",
     "text": [
      "('i ', 'love', ' pakistan')\n"
     ]
    }
   ],
   "source": [
    "#convert into partition\n",
    "print(l_paragraph.partition(\"love\"))"
   ]
  },
  {
   "cell_type": "code",
   "execution_count": 102,
   "metadata": {},
   "outputs": [
    {
     "name": "stdout",
     "output_type": "stream",
     "text": [
      "we love pakistan\n"
     ]
    }
   ],
   "source": [
    "#find and replace text\n",
    "print(l_paragraph.replace(\"i \",\"we \"))"
   ]
  },
  {
   "cell_type": "code",
   "execution_count": 104,
   "metadata": {},
   "outputs": [
    {
     "name": "stdout",
     "output_type": "stream",
     "text": [
      "['i', 'love', 'pakistan']\n"
     ]
    }
   ],
   "source": [
    "#split text into list\n",
    "print(l_paragraph.split())"
   ]
  },
  {
   "cell_type": "code",
   "execution_count": 105,
   "metadata": {},
   "outputs": [
    {
     "name": "stdout",
     "output_type": "stream",
     "text": [
      "['I am from Pakistan ', ' I am proud to be pakistani']\n"
     ]
    }
   ],
   "source": [
    "#split lines into list\n",
    "print(\"I am from Pakistan \\n I am proud to be pakistani\".splitlines())"
   ]
  },
  {
   "cell_type": "code",
   "execution_count": 107,
   "metadata": {},
   "outputs": [
    {
     "name": "stdout",
     "output_type": "stream",
     "text": [
      "I am Pakistani\n"
     ]
    }
   ],
   "source": [
    "#trim spaces from both sides\n",
    "print(\"        I am Pakistani             \".strip())"
   ]
  },
  {
   "cell_type": "code",
   "execution_count": 109,
   "metadata": {},
   "outputs": [
    {
     "name": "stdout",
     "output_type": "stream",
     "text": [
      "I LOVE PAKISTAN\n",
      "i love pakistan\n"
     ]
    }
   ],
   "source": [
    "#swap cases lower to upper and vise versa\n",
    "print(l_paragraph.swapcase())\n",
    "print(c_paragraph.swapcase())"
   ]
  },
  {
   "cell_type": "code",
   "execution_count": 110,
   "metadata": {},
   "outputs": [
    {
     "name": "stdout",
     "output_type": "stream",
     "text": [
      "I Love Pakistan\n"
     ]
    }
   ],
   "source": [
    "#convert to title case\n",
    "print(c_paragraph.title())"
   ]
  },
  {
   "cell_type": "code",
   "execution_count": 112,
   "metadata": {},
   "outputs": [
    {
     "name": "stdout",
     "output_type": "stream",
     "text": [
      "I LOVE PAKISTAN\n"
     ]
    }
   ],
   "source": [
    "#convert to upper case\n",
    "print(l_paragraph.upper())"
   ]
  },
  {
   "cell_type": "code",
   "execution_count": 116,
   "metadata": {},
   "outputs": [
    {
     "name": "stdout",
     "output_type": "stream",
     "text": [
      "0000000150\n"
     ]
    }
   ],
   "source": [
    "#Fill number with zeros\n",
    "print(\"150\".zfill(10))\n"
   ]
  },
  {
   "cell_type": "code",
   "execution_count": null,
   "metadata": {},
   "outputs": [],
   "source": []
  }
 ],
 "metadata": {
  "kernelspec": {
   "display_name": "Python 3",
   "language": "python",
   "name": "python3"
  },
  "language_info": {
   "codemirror_mode": {
    "name": "ipython",
    "version": 3
   },
   "file_extension": ".py",
   "mimetype": "text/x-python",
   "name": "python",
   "nbconvert_exporter": "python",
   "pygments_lexer": "ipython3",
   "version": "3.7.3"
  }
 },
 "nbformat": 4,
 "nbformat_minor": 2
}
